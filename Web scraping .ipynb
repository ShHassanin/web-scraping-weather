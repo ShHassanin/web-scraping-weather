{
 "cells": [
  {
   "cell_type": "code",
   "execution_count": 1,
   "id": "424deb28",
   "metadata": {},
   "outputs": [],
   "source": [
    "import requests\n",
    "from bs4 import BeautifulSoup\n",
    "from datetime import datetime\n",
    "import time\n",
    "import csv"
   ]
  },
  {
   "cell_type": "code",
   "execution_count": 2,
   "id": "ef31c8c1",
   "metadata": {},
   "outputs": [
    {
     "name": "stdout",
     "output_type": "stream",
     "text": [
      "15 6.0 48.0 10000.0 1018.0 Thursday - 16/December/2021 - 12:49:41 AM\n",
      "15 6.0 48.0 10000.0 1018.0 Thursday - 16/December/2021 - 12:50:43 AM\n",
      "15 6.0 48.0 10000.0 1018.0 Thursday - 16/December/2021 - 12:51:44 AM\n",
      "15 6.0 48.0 10000.0 1018.0 Thursday - 16/December/2021 - 12:52:45 AM\n",
      "15 6.0 48.0 10000.0 1018.0 Thursday - 16/December/2021 - 12:53:47 AM\n",
      "15 6.0 48.0 10000.0 1018.0 Thursday - 16/December/2021 - 12:54:49 AM\n",
      "15 6.0 48.0 10000.0 1018.0 Thursday - 16/December/2021 - 12:55:50 AM\n",
      "15 6.0 48.0 10000.0 1018.0 Thursday - 16/December/2021 - 12:56:51 AM\n",
      "15 6.0 48.0 10000.0 1018.0 Thursday - 16/December/2021 - 12:57:52 AM\n",
      "15 6.0 48.0 10000.0 1018.0 Thursday - 16/December/2021 - 12:58:53 AM\n"
     ]
    }
   ],
   "source": [
    "with open('Wheathernow.csv','w',newline='') as f:\n",
    "        writer= csv.DictWriter(f, fieldnames=['Temp','WindSpeed','Humidity','Visibility','Pressure','Date&Time'])\n",
    "        writer.writeheader()\n",
    "        \n",
    "        for i in range(10):\n",
    "            response= requests.get(\"https://eg.freemeteo.com/weather/cairo/current-weather/location/?gid=360630&language=english&country=egypt\")\n",
    "            soup= BeautifulSoup(response.text,'html.parser')\n",
    "            temp= soup.find('div',attrs={'class':'temp'}).text\n",
    "            tempInt= int(temp[:-2])\n",
    "            \n",
    "            windSpan= soup.find_all('span', attrs={'class':'white'})[0]\n",
    "            windSpeed= windSpan.find('b').get_text()\n",
    "            windSpeedFloat= float(windSpeed)\n",
    "            \n",
    "            indicators= soup.find_all('div', attrs={'class':'stats'})[0].get_text()\n",
    "            indicatorslist= indicators.split()\n",
    "            humidity,Visibility,Pressure= indicatorslist[2],indicatorslist[6],indicatorslist[9]\n",
    "            \n",
    "            humidityFloat= float(humidity[:-1])\n",
    "            VisibilityFloat= float(Visibility[:-1])\n",
    "            PressureFloat= float(Pressure[:-2])\n",
    "            date= datetime.now().strftime(\"%A - %d/%B/%Y - %I:%M:%S %p\")\n",
    "            print(tempInt,windSpeedFloat,humidityFloat,VisibilityFloat,PressureFloat,date)\n",
    "            \n",
    "            time.sleep(60)\n",
    "          \n",
    "            writer.writerow({\n",
    "                'Temp':tempInt,\n",
    "                'WindSpeed':windSpeedFloat,\n",
    "                'Humidity':humidityFloat,\n",
    "                'Visibility':VisibilityFloat,\n",
    "                'Pressure':PressureFloat,\n",
    "                'Date&Time':date\n",
    "            })"
   ]
  },
  {
   "cell_type": "code",
   "execution_count": null,
   "id": "107f3bd6",
   "metadata": {},
   "outputs": [],
   "source": []
  }
 ],
 "metadata": {
  "kernelspec": {
   "display_name": "Python 3",
   "language": "python",
   "name": "python3"
  },
  "language_info": {
   "codemirror_mode": {
    "name": "ipython",
    "version": 3
   },
   "file_extension": ".py",
   "mimetype": "text/x-python",
   "name": "python",
   "nbconvert_exporter": "python",
   "pygments_lexer": "ipython3",
   "version": "3.8.8"
  }
 },
 "nbformat": 4,
 "nbformat_minor": 5
}
